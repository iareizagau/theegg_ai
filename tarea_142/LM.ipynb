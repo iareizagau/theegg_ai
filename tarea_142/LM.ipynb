{
 "cells": [
  {
   "cell_type": "markdown",
   "metadata": {},
   "source": [
    "# REGRESIÓN LINEAL\n",
    "### Introducción\n",
    "Importamos los paquetes de Python que vamos a necesitar:"
   ]
  },
  {
   "cell_type": "code",
   "execution_count": 70,
   "metadata": {},
   "outputs": [],
   "source": [
    "import pandas as pd\n",
    "import numpy as np\n",
    "import matplotlib.pyplot as plt\n",
    "\n",
    "np.set_printoptions(suppress=True)"
   ]
  },
  {
   "cell_type": "markdown",
   "metadata": {},
   "source": [
    "y creamos el dataset de alturas y pesos:"
   ]
  },
  {
   "cell_type": "code",
   "execution_count": 139,
   "metadata": {},
   "outputs": [
    {
     "data": {
      "text/html": [
       "<div>\n",
       "<style scoped>\n",
       "    .dataframe tbody tr th:only-of-type {\n",
       "        vertical-align: middle;\n",
       "    }\n",
       "\n",
       "    .dataframe tbody tr th {\n",
       "        vertical-align: top;\n",
       "    }\n",
       "\n",
       "    .dataframe thead th {\n",
       "        text-align: right;\n",
       "    }\n",
       "</style>\n",
       "<table border=\"1\" class=\"dataframe\">\n",
       "  <thead>\n",
       "    <tr style=\"text-align: right;\">\n",
       "      <th></th>\n",
       "      <th>altura</th>\n",
       "      <th>peso</th>\n",
       "    </tr>\n",
       "  </thead>\n",
       "  <tbody>\n",
       "    <tr>\n",
       "      <th>0</th>\n",
       "      <td>180</td>\n",
       "      <td>87</td>\n",
       "    </tr>\n",
       "    <tr>\n",
       "      <th>1</th>\n",
       "      <td>164</td>\n",
       "      <td>48</td>\n",
       "    </tr>\n",
       "    <tr>\n",
       "      <th>2</th>\n",
       "      <td>172</td>\n",
       "      <td>80</td>\n",
       "    </tr>\n",
       "    <tr>\n",
       "      <th>3</th>\n",
       "      <td>167</td>\n",
       "      <td>60</td>\n",
       "    </tr>\n",
       "    <tr>\n",
       "      <th>4</th>\n",
       "      <td>176</td>\n",
       "      <td>85</td>\n",
       "    </tr>\n",
       "    <tr>\n",
       "      <th>5</th>\n",
       "      <td>184</td>\n",
       "      <td>98</td>\n",
       "    </tr>\n",
       "    <tr>\n",
       "      <th>6</th>\n",
       "      <td>161</td>\n",
       "      <td>55</td>\n",
       "    </tr>\n",
       "    <tr>\n",
       "      <th>7</th>\n",
       "      <td>191</td>\n",
       "      <td>86</td>\n",
       "    </tr>\n",
       "    <tr>\n",
       "      <th>8</th>\n",
       "      <td>178</td>\n",
       "      <td>66</td>\n",
       "    </tr>\n",
       "    <tr>\n",
       "      <th>9</th>\n",
       "      <td>175</td>\n",
       "      <td>75</td>\n",
       "    </tr>\n",
       "    <tr>\n",
       "      <th>10</th>\n",
       "      <td>160</td>\n",
       "      <td>60</td>\n",
       "    </tr>\n",
       "    <tr>\n",
       "      <th>11</th>\n",
       "      <td>177</td>\n",
       "      <td>76</td>\n",
       "    </tr>\n",
       "  </tbody>\n",
       "</table>\n",
       "</div>"
      ],
      "text/plain": [
       "    altura  peso\n",
       "0      180    87\n",
       "1      164    48\n",
       "2      172    80\n",
       "3      167    60\n",
       "4      176    85\n",
       "5      184    98\n",
       "6      161    55\n",
       "7      191    86\n",
       "8      178    66\n",
       "9      175    75\n",
       "10     160    60\n",
       "11     177    76"
      ]
     },
     "execution_count": 139,
     "metadata": {},
     "output_type": "execute_result"
    }
   ],
   "source": [
    "df = pd.DataFrame({'altura':[180, 164, 172, 167, 176, 184, 161, 191, 178, 175, 160, 177], \n",
    "                   'peso':[87, 48, 80, 60, 85, 98, 55, 86, 66, 75, 60, 76]})\n",
    "df"
   ]
  },
  {
   "cell_type": "markdown",
   "metadata": {},
   "source": [
    "### Justificación del nombre \"regresión **lineal**\""
   ]
  },
  {
   "cell_type": "markdown",
   "metadata": {},
   "source": [
    "Vemos que los puntos (altura,2*altura+5) están alineados:"
   ]
  },
  {
   "cell_type": "code",
   "execution_count": 140,
   "metadata": {},
   "outputs": [
    {
     "data": {
      "image/png": "[encoded data removed]",
      "text/plain": [
       "<Figure size 432x288 with 1 Axes>"
      ]
     },
     "metadata": {
      "needs_background": "light"
     },
     "output_type": "display_data"
    }
   ],
   "source": [
    "df['2*altura + 5'] = 2*df.altura.values+5\n",
    "plt.plot(df.altura.values, df['2*altura + 5'].values, '.'); plt.show()"
   ]
  },
  {
   "cell_type": "markdown",
   "metadata": {},
   "source": [
    "### Cálculo del error RMSE"
   ]
  },
  {
   "cell_type": "markdown",
   "metadata": {},
   "source": [
    "El RMSE entre el peso y 2*altura+5 es:"
   ]
  },
  {
   "cell_type": "code",
   "execution_count": 143,
   "metadata": {},
   "outputs": [
    {
     "data": {
      "text/html": [
       "<div>\n",
       "<style scoped>\n",
       "    .dataframe tbody tr th:only-of-type {\n",
       "        vertical-align: middle;\n",
       "    }\n",
       "\n",
       "    .dataframe tbody tr th {\n",
       "        vertical-align: top;\n",
       "    }\n",
       "\n",
       "    .dataframe thead th {\n",
       "        text-align: right;\n",
       "    }\n",
       "</style>\n",
       "<table border=\"1\" class=\"dataframe\">\n",
       "  <thead>\n",
       "    <tr style=\"text-align: right;\">\n",
       "      <th></th>\n",
       "      <th>altura</th>\n",
       "      <th>peso</th>\n",
       "      <th>2*altura + 5</th>\n",
       "      <th>xi-yi</th>\n",
       "      <th>(xi-yi)^2</th>\n",
       "    </tr>\n",
       "  </thead>\n",
       "  <tbody>\n",
       "    <tr>\n",
       "      <th>0</th>\n",
       "      <td>180</td>\n",
       "      <td>87</td>\n",
       "      <td>365</td>\n",
       "      <td>-278</td>\n",
       "      <td>77284.0</td>\n",
       "    </tr>\n",
       "    <tr>\n",
       "      <th>1</th>\n",
       "      <td>164</td>\n",
       "      <td>48</td>\n",
       "      <td>333</td>\n",
       "      <td>-285</td>\n",
       "      <td>81225.0</td>\n",
       "    </tr>\n",
       "    <tr>\n",
       "      <th>2</th>\n",
       "      <td>172</td>\n",
       "      <td>80</td>\n",
       "      <td>349</td>\n",
       "      <td>-269</td>\n",
       "      <td>72361.0</td>\n",
       "    </tr>\n",
       "    <tr>\n",
       "      <th>3</th>\n",
       "      <td>167</td>\n",
       "      <td>60</td>\n",
       "      <td>339</td>\n",
       "      <td>-279</td>\n",
       "      <td>77841.0</td>\n",
       "    </tr>\n",
       "    <tr>\n",
       "      <th>4</th>\n",
       "      <td>176</td>\n",
       "      <td>85</td>\n",
       "      <td>357</td>\n",
       "      <td>-272</td>\n",
       "      <td>73984.0</td>\n",
       "    </tr>\n",
       "    <tr>\n",
       "      <th>5</th>\n",
       "      <td>184</td>\n",
       "      <td>98</td>\n",
       "      <td>373</td>\n",
       "      <td>-275</td>\n",
       "      <td>75625.0</td>\n",
       "    </tr>\n",
       "    <tr>\n",
       "      <th>6</th>\n",
       "      <td>161</td>\n",
       "      <td>55</td>\n",
       "      <td>327</td>\n",
       "      <td>-272</td>\n",
       "      <td>73984.0</td>\n",
       "    </tr>\n",
       "    <tr>\n",
       "      <th>7</th>\n",
       "      <td>191</td>\n",
       "      <td>86</td>\n",
       "      <td>387</td>\n",
       "      <td>-301</td>\n",
       "      <td>90601.0</td>\n",
       "    </tr>\n",
       "    <tr>\n",
       "      <th>8</th>\n",
       "      <td>178</td>\n",
       "      <td>66</td>\n",
       "      <td>361</td>\n",
       "      <td>-295</td>\n",
       "      <td>87025.0</td>\n",
       "    </tr>\n",
       "    <tr>\n",
       "      <th>9</th>\n",
       "      <td>175</td>\n",
       "      <td>75</td>\n",
       "      <td>355</td>\n",
       "      <td>-280</td>\n",
       "      <td>78400.0</td>\n",
       "    </tr>\n",
       "    <tr>\n",
       "      <th>10</th>\n",
       "      <td>160</td>\n",
       "      <td>60</td>\n",
       "      <td>325</td>\n",
       "      <td>-265</td>\n",
       "      <td>70225.0</td>\n",
       "    </tr>\n",
       "    <tr>\n",
       "      <th>11</th>\n",
       "      <td>177</td>\n",
       "      <td>76</td>\n",
       "      <td>359</td>\n",
       "      <td>-283</td>\n",
       "      <td>80089.0</td>\n",
       "    </tr>\n",
       "    <tr>\n",
       "      <th>media</th>\n",
       "      <td></td>\n",
       "      <td></td>\n",
       "      <td></td>\n",
       "      <td></td>\n",
       "      <td>78220.3</td>\n",
       "    </tr>\n",
       "    <tr>\n",
       "      <th>RMSE</th>\n",
       "      <td></td>\n",
       "      <td></td>\n",
       "      <td></td>\n",
       "      <td></td>\n",
       "      <td>279.7</td>\n",
       "    </tr>\n",
       "  </tbody>\n",
       "</table>\n",
       "</div>"
      ],
      "text/plain": [
       "      altura peso 2*altura + 5 xi-yi  (xi-yi)^2\n",
       "0        180   87          365  -278    77284.0\n",
       "1        164   48          333  -285    81225.0\n",
       "2        172   80          349  -269    72361.0\n",
       "3        167   60          339  -279    77841.0\n",
       "4        176   85          357  -272    73984.0\n",
       "5        184   98          373  -275    75625.0\n",
       "6        161   55          327  -272    73984.0\n",
       "7        191   86          387  -301    90601.0\n",
       "8        178   66          361  -295    87025.0\n",
       "9        175   75          355  -280    78400.0\n",
       "10       160   60          325  -265    70225.0\n",
       "11       177   76          359  -283    80089.0\n",
       "media                                   78220.3\n",
       "RMSE                                      279.7"
      ]
     },
     "execution_count": 143,
     "metadata": {},
     "output_type": "execute_result"
    }
   ],
   "source": [
    "df_rmse = df.copy()\n",
    "df_rmse['xi-yi'] = df_rmse.peso - (2*df_rmse.altura + 5)\n",
    "df_rmse['(xi-yi)^2'] = (df_rmse.peso - (5+2*df_rmse.altura))**2\n",
    "df_rmse.loc['media', ['altura', 'peso', '2*altura + 5', 'xi-yi', '(xi-yi)^2']] = ['', '', '', '', np.mean(df_rmse['(xi-yi)^2'])]\n",
    "df_rmse.loc['RMSE', ['altura', 'peso', '2*altura + 5', 'xi-yi', '(xi-yi)^2']] = ['', '', '', '', np.sqrt(df_rmse.loc['media', '(xi-yi)^2'])]\n",
    "df_rmse['(xi-yi)^2'] = np.round(df_rmse['(xi-yi)^2'], 1)\n",
    "df_rmse"
   ]
  },
  {
   "cell_type": "markdown",
   "metadata": {},
   "source": [
    "Alternativamente, se descarga el error MSE de Scikit-Learn y se hace su raíz cuadrada:"
   ]
  },
  {
   "cell_type": "code",
   "execution_count": 5,
   "metadata": {},
   "outputs": [
    {
     "data": {
      "text/plain": [
       "279.6789826449841"
      ]
     },
     "execution_count": 5,
     "metadata": {},
     "output_type": "execute_result"
    }
   ],
   "source": [
    "from sklearn.metrics import mean_squared_error as mse\n",
    "rmse = lambda x, y: np.sqrt(mse(x, y))\n",
    "rmse(df['peso'], df['2*altura + 5'])"
   ]
  },
  {
   "cell_type": "markdown",
   "metadata": {},
   "source": [
    "Y vemos que coincide el número (en la tabla se ha redondeado a un decimal). \n",
    "### Fijar un modelo lineal\n",
    "Calculamos ahora la óptima recta de regresión para altura vs. peso:"
   ]
  },
  {
   "cell_type": "code",
   "execution_count": 6,
   "metadata": {},
   "outputs": [],
   "source": [
    "from sklearn.linear_model import LinearRegression as lm\n",
    "X, y = df.altura.values.reshape(-1, 1), df.peso.values\n",
    "fitted_mod = lm().fit(X, y)"
   ]
  },
  {
   "cell_type": "markdown",
   "metadata": {},
   "source": [
    "Para calcular los coeficientes que se multiplican con las variables (en este caso solamente A) usamos el atributo *coef_*, y para el coeficiente libre, *intercept_*:"
   ]
  },
  {
   "cell_type": "code",
   "execution_count": 8,
   "metadata": {},
   "outputs": [
    {
     "data": {
      "text/plain": [
       "(array([1.34224736]), -160.21547955772695)"
      ]
     },
     "execution_count": 8,
     "metadata": {},
     "output_type": "execute_result"
    }
   ],
   "source": [
    "fitted_mod.coef_, fitted_mod.intercept_"
   ]
  },
  {
   "cell_type": "markdown",
   "metadata": {},
   "source": [
    "Así pues, la recta óptima es $peso = 1.34224736 \\cdot altura - 160.21547955772695$.\n",
    "### Un dataset para el cual un modelo lineal es inapropiado:\n",
    "Tomemos ahora el dato data1.csv, y representemos el dato contenido en él:"
   ]
  },
  {
   "cell_type": "code",
   "execution_count": 22,
   "metadata": {},
   "outputs": [
    {
     "data": {
      "image/png": "[encoded data removed]",
      "text/plain": [
       "<Figure size 432x288 with 1 Axes>"
      ]
     },
     "metadata": {
      "needs_background": "light"
     },
     "output_type": "display_data"
    }
   ],
   "source": [
    "df = pd.read_csv('data1.csv')\n",
    "plt.plot(df.col1.values, df.col2.values, '.'); plt.show()"
   ]
  },
  {
   "cell_type": "markdown",
   "metadata": {},
   "source": [
    "Fijamos mediante mínimos cuadrados un modelo lineal tomando como variable explicativa a col1, y de salida a col2:"
   ]
  },
  {
   "cell_type": "code",
   "execution_count": 26,
   "metadata": {},
   "outputs": [],
   "source": [
    "X, y = df.col1.values.reshape(-1, 1), df.col2.values\n",
    "fitted_mod = lm().fit(X, y)"
   ]
  },
  {
   "cell_type": "markdown",
   "metadata": {},
   "source": [
    "Si pintamos la variable de salida real (col2) vs. la predicción del modelo:"
   ]
  },
  {
   "cell_type": "code",
   "execution_count": 33,
   "metadata": {},
   "outputs": [
    {
     "data": {
      "image/png": "[encoded data removed]",
      "text/plain": [
       "<Figure size 432x288 with 1 Axes>"
      ]
     },
     "metadata": {
      "needs_background": "light"
     },
     "output_type": "display_data"
    }
   ],
   "source": [
    "plt.plot(df.col1.values, df.col2.values, '.')\n",
    "plt.plot(df.col1.values, fitted_mod.predict(X)); plt.show()"
   ]
  },
  {
   "cell_type": "markdown",
   "metadata": {},
   "source": [
    "mientras que el RMSE es:"
   ]
  },
  {
   "cell_type": "code",
   "execution_count": 31,
   "metadata": {},
   "outputs": [
    {
     "data": {
      "text/plain": [
       "16.554928774453874"
      ]
     },
     "execution_count": 31,
     "metadata": {},
     "output_type": "execute_result"
    }
   ],
   "source": [
    "rmse(df.col2.values, fitted_mod.predict(X))"
   ]
  },
  {
   "cell_type": "markdown",
   "metadata": {},
   "source": [
    "Sin embargo, si fijamos otro tipo de regresión (en este ejemplo se fija una regresión polinómica), el error RMSE es menor que el RMSE anterior, que era el menor error posible con regresión lineal:"
   ]
  },
  {
   "cell_type": "code",
   "execution_count": 43,
   "metadata": {},
   "outputs": [
    {
     "data": {
      "image/png": "[encoded data removed]",
      "text/plain": [
       "<Figure size 432x288 with 1 Axes>"
      ]
     },
     "metadata": {
      "needs_background": "light"
     },
     "output_type": "display_data"
    },
    {
     "name": "stdout",
     "output_type": "stream",
     "text": [
      "RMSE: 10.255197731739395\n"
     ]
    }
   ],
   "source": [
    "from sklearn.preprocessing import PolynomialFeatures\n",
    "plt.plot(alturas, pesos, '.')\n",
    "alturas_sorted = np.array(sorted(alturas))\n",
    "pol_feat = PolynomialFeatures(2).fit(X)\n",
    "Xpol = pol_feat.transform(X)\n",
    "Xpol_predict = pol_feat.transform(alturas_sorted.reshape(-1, 1))\n",
    "plt.plot(alturas_sorted, lm().fit(Xpol, y).predict(Xpol_predict)); plt.show()\n",
    "print('RMSE:', rmse(y, lm().fit(Xpol, y).predict(Xpol)))"
   ]
  },
  {
   "cell_type": "markdown",
   "metadata": {},
   "source": [
    "### Un último ejemplo - Repaso, multicolinealidad y VIF\n",
    "Abordemos un último dataset, que en este caso relaciona el precio de unas viviendas en función de sus características principales:"
   ]
  },
  {
   "cell_type": "code",
   "execution_count": 126,
   "metadata": {},
   "outputs": [
    {
     "data": {
      "text/html": [
       "<div>\n",
       "<style scoped>\n",
       "    .dataframe tbody tr th:only-of-type {\n",
       "        vertical-align: middle;\n",
       "    }\n",
       "\n",
       "    .dataframe tbody tr th {\n",
       "        vertical-align: top;\n",
       "    }\n",
       "\n",
       "    .dataframe thead th {\n",
       "        text-align: right;\n",
       "    }\n",
       "</style>\n",
       "<table border=\"1\" class=\"dataframe\">\n",
       "  <thead>\n",
       "    <tr style=\"text-align: right;\">\n",
       "      <th></th>\n",
       "      <th>Metros</th>\n",
       "      <th>Habitaciones</th>\n",
       "      <th>Balcon</th>\n",
       "      <th>Baños</th>\n",
       "      <th>Zona</th>\n",
       "      <th>Precio</th>\n",
       "    </tr>\n",
       "  </thead>\n",
       "  <tbody>\n",
       "    <tr>\n",
       "      <th>0</th>\n",
       "      <td>80</td>\n",
       "      <td>3</td>\n",
       "      <td>No</td>\n",
       "      <td>1</td>\n",
       "      <td>Periferia</td>\n",
       "      <td>220000</td>\n",
       "    </tr>\n",
       "    <tr>\n",
       "      <th>1</th>\n",
       "      <td>76</td>\n",
       "      <td>2</td>\n",
       "      <td>Sí</td>\n",
       "      <td>1</td>\n",
       "      <td>Centro</td>\n",
       "      <td>210000</td>\n",
       "    </tr>\n",
       "    <tr>\n",
       "      <th>2</th>\n",
       "      <td>50</td>\n",
       "      <td>1</td>\n",
       "      <td>Sí</td>\n",
       "      <td>1</td>\n",
       "      <td>Centro</td>\n",
       "      <td>165000</td>\n",
       "    </tr>\n",
       "    <tr>\n",
       "      <th>3</th>\n",
       "      <td>97</td>\n",
       "      <td>3</td>\n",
       "      <td>Sí</td>\n",
       "      <td>2</td>\n",
       "      <td>Centro</td>\n",
       "      <td>260000</td>\n",
       "    </tr>\n",
       "    <tr>\n",
       "      <th>4</th>\n",
       "      <td>125</td>\n",
       "      <td>4</td>\n",
       "      <td>Sí</td>\n",
       "      <td>2</td>\n",
       "      <td>Periferia</td>\n",
       "      <td>380000</td>\n",
       "    </tr>\n",
       "    <tr>\n",
       "      <th>5</th>\n",
       "      <td>83</td>\n",
       "      <td>4</td>\n",
       "      <td>No</td>\n",
       "      <td>2</td>\n",
       "      <td>Centro</td>\n",
       "      <td>270000</td>\n",
       "    </tr>\n",
       "    <tr>\n",
       "      <th>6</th>\n",
       "      <td>100</td>\n",
       "      <td>3</td>\n",
       "      <td>No</td>\n",
       "      <td>1</td>\n",
       "      <td>Periferia</td>\n",
       "      <td>220000</td>\n",
       "    </tr>\n",
       "  </tbody>\n",
       "</table>\n",
       "</div>"
      ],
      "text/plain": [
       "   Metros  Habitaciones Balcon  Baños       Zona  Precio\n",
       "0      80             3     No      1  Periferia  220000\n",
       "1      76             2     Sí      1     Centro  210000\n",
       "2      50             1     Sí      1     Centro  165000\n",
       "3      97             3     Sí      2     Centro  260000\n",
       "4     125             4     Sí      2  Periferia  380000\n",
       "5      83             4     No      2     Centro  270000\n",
       "6     100             3     No      1  Periferia  220000"
      ]
     },
     "execution_count": 126,
     "metadata": {},
     "output_type": "execute_result"
    }
   ],
   "source": [
    "df = pd.read_csv('casas.csv')\n",
    "df"
   ]
  },
  {
   "cell_type": "markdown",
   "metadata": {},
   "source": [
    "En primer lugar tenemos que preprocesar las columnas Balcón y Zona:"
   ]
  },
  {
   "cell_type": "code",
   "execution_count": 127,
   "metadata": {},
   "outputs": [
    {
     "data": {
      "text/html": [
       "<div>\n",
       "<style scoped>\n",
       "    .dataframe tbody tr th:only-of-type {\n",
       "        vertical-align: middle;\n",
       "    }\n",
       "\n",
       "    .dataframe tbody tr th {\n",
       "        vertical-align: top;\n",
       "    }\n",
       "\n",
       "    .dataframe thead th {\n",
       "        text-align: right;\n",
       "    }\n",
       "</style>\n",
       "<table border=\"1\" class=\"dataframe\">\n",
       "  <thead>\n",
       "    <tr style=\"text-align: right;\">\n",
       "      <th></th>\n",
       "      <th>Metros</th>\n",
       "      <th>Habitaciones</th>\n",
       "      <th>Balcon</th>\n",
       "      <th>Baños</th>\n",
       "      <th>Zona</th>\n",
       "      <th>Precio</th>\n",
       "    </tr>\n",
       "  </thead>\n",
       "  <tbody>\n",
       "    <tr>\n",
       "      <th>0</th>\n",
       "      <td>80</td>\n",
       "      <td>3</td>\n",
       "      <td>0</td>\n",
       "      <td>1</td>\n",
       "      <td>1</td>\n",
       "      <td>220000</td>\n",
       "    </tr>\n",
       "    <tr>\n",
       "      <th>1</th>\n",
       "      <td>76</td>\n",
       "      <td>2</td>\n",
       "      <td>1</td>\n",
       "      <td>1</td>\n",
       "      <td>0</td>\n",
       "      <td>210000</td>\n",
       "    </tr>\n",
       "    <tr>\n",
       "      <th>2</th>\n",
       "      <td>50</td>\n",
       "      <td>1</td>\n",
       "      <td>1</td>\n",
       "      <td>1</td>\n",
       "      <td>0</td>\n",
       "      <td>165000</td>\n",
       "    </tr>\n",
       "    <tr>\n",
       "      <th>3</th>\n",
       "      <td>97</td>\n",
       "      <td>3</td>\n",
       "      <td>1</td>\n",
       "      <td>2</td>\n",
       "      <td>0</td>\n",
       "      <td>260000</td>\n",
       "    </tr>\n",
       "    <tr>\n",
       "      <th>4</th>\n",
       "      <td>125</td>\n",
       "      <td>4</td>\n",
       "      <td>1</td>\n",
       "      <td>2</td>\n",
       "      <td>1</td>\n",
       "      <td>380000</td>\n",
       "    </tr>\n",
       "    <tr>\n",
       "      <th>5</th>\n",
       "      <td>83</td>\n",
       "      <td>4</td>\n",
       "      <td>0</td>\n",
       "      <td>2</td>\n",
       "      <td>0</td>\n",
       "      <td>270000</td>\n",
       "    </tr>\n",
       "    <tr>\n",
       "      <th>6</th>\n",
       "      <td>100</td>\n",
       "      <td>3</td>\n",
       "      <td>0</td>\n",
       "      <td>1</td>\n",
       "      <td>1</td>\n",
       "      <td>220000</td>\n",
       "    </tr>\n",
       "  </tbody>\n",
       "</table>\n",
       "</div>"
      ],
      "text/plain": [
       "   Metros  Habitaciones  Balcon  Baños  Zona  Precio\n",
       "0      80             3       0      1     1  220000\n",
       "1      76             2       1      1     0  210000\n",
       "2      50             1       1      1     0  165000\n",
       "3      97             3       1      2     0  260000\n",
       "4     125             4       1      2     1  380000\n",
       "5      83             4       0      2     0  270000\n",
       "6     100             3       0      1     1  220000"
      ]
     },
     "execution_count": 127,
     "metadata": {},
     "output_type": "execute_result"
    }
   ],
   "source": [
    "from sklearn.preprocessing import LabelEncoder as le\n",
    "df.Balcon = le().fit_transform(df.Balcon)\n",
    "df.Zona = le().fit_transform(df.Zona)\n",
    "df"
   ]
  },
  {
   "cell_type": "markdown",
   "metadata": {},
   "source": [
    "Acto seguido fijamos un modelo lineal y calculamos su score $R^2$ para medir su calidad:"
   ]
  },
  {
   "cell_type": "code",
   "execution_count": 128,
   "metadata": {},
   "outputs": [
    {
     "data": {
      "text/plain": [
       "0.9814930926346503"
      ]
     },
     "execution_count": 128,
     "metadata": {},
     "output_type": "execute_result"
    }
   ],
   "source": [
    "X, y = df.drop(columns='Precio').values, df.Precio.values\n",
    "fitted_mod = lm().fit(X, y)\n",
    "fitted_mod.score(X, y)"
   ]
  },
  {
   "cell_type": "markdown",
   "metadata": {},
   "source": [
    "Los coeficientes de cada variable explicativa son"
   ]
  },
  {
   "cell_type": "code",
   "execution_count": 129,
   "metadata": {},
   "outputs": [
    {
     "data": {
      "text/plain": [
       "array([ -896.13970588, 75193.01470588, 98419.11764706,  7412.68382353,\n",
       "       49218.75      ])"
      ]
     },
     "execution_count": 129,
     "metadata": {},
     "output_type": "execute_result"
    }
   ],
   "source": [
    "fitted_mod.coef_"
   ]
  },
  {
   "cell_type": "markdown",
   "metadata": {},
   "source": [
    "y como las columnas son"
   ]
  },
  {
   "cell_type": "code",
   "execution_count": 130,
   "metadata": {},
   "outputs": [
    {
     "data": {
      "text/plain": [
       "Index(['Metros', 'Habitaciones', 'Balcon', 'Baños', 'Zona'], dtype='object')"
      ]
     },
     "execution_count": 130,
     "metadata": {},
     "output_type": "execute_result"
    }
   ],
   "source": [
    "col_names = df.drop(columns='Precio').columns\n",
    "col_names"
   ]
  },
  {
   "cell_type": "markdown",
   "metadata": {},
   "source": [
    "y el coeficiente libre o intercepto es"
   ]
  },
  {
   "cell_type": "code",
   "execution_count": 131,
   "metadata": {},
   "outputs": [
    {
     "data": {
      "text/plain": [
       "21888.786764705786"
      ]
     },
     "execution_count": 131,
     "metadata": {},
     "output_type": "execute_result"
    }
   ],
   "source": [
    "fitted_mod.intercept_"
   ]
  },
  {
   "cell_type": "markdown",
   "metadata": {},
   "source": [
    "concluimos que la fórmula lineal para los precios de las casas según este modelo es:"
   ]
  },
  {
   "cell_type": "code",
   "execution_count": 132,
   "metadata": {},
   "outputs": [
    {
     "data": {
      "text/plain": [
       "'Precio = 21888.79 + -896.14·Metros + 75193.01·Habitaciones + 98419.12·Balcon + 7412.68·Baños + 49218.75·Zona'"
      ]
     },
     "execution_count": 132,
     "metadata": {},
     "output_type": "execute_result"
    }
   ],
   "source": [
    "intercept = np.round(fitted_mod.intercept_, 2)\n",
    "formula = f'Precio = {intercept}'\n",
    "for i in range(len(col_names)):\n",
    "    col = col_names[i]\n",
    "    coef = np.round(fitted_mod.coef_[i], 2)\n",
    "    formula += f' + {coef}·{col}'\n",
    "formula"
   ]
  },
  {
   "cell_type": "markdown",
   "metadata": {},
   "source": [
    "Nos preguntamos ahora si hay multicolinealidad entre las columnas de este dataset, causando que el modelo sea poco robusto. Calculamos los VIF para cada variable explicativa:"
   ]
  },
  {
   "cell_type": "code",
   "execution_count": 133,
   "metadata": {},
   "outputs": [
    {
     "data": {
      "text/html": [
       "<div>\n",
       "<style scoped>\n",
       "    .dataframe tbody tr th:only-of-type {\n",
       "        vertical-align: middle;\n",
       "    }\n",
       "\n",
       "    .dataframe tbody tr th {\n",
       "        vertical-align: top;\n",
       "    }\n",
       "\n",
       "    .dataframe thead th {\n",
       "        text-align: right;\n",
       "    }\n",
       "</style>\n",
       "<table border=\"1\" class=\"dataframe\">\n",
       "  <thead>\n",
       "    <tr style=\"text-align: right;\">\n",
       "      <th></th>\n",
       "      <th>columna</th>\n",
       "      <th>VIF</th>\n",
       "    </tr>\n",
       "  </thead>\n",
       "  <tbody>\n",
       "    <tr>\n",
       "      <th>0</th>\n",
       "      <td>Metros</td>\n",
       "      <td>156.572935</td>\n",
       "    </tr>\n",
       "    <tr>\n",
       "      <th>1</th>\n",
       "      <td>Habitaciones</td>\n",
       "      <td>231.443140</td>\n",
       "    </tr>\n",
       "    <tr>\n",
       "      <th>2</th>\n",
       "      <td>Balcon</td>\n",
       "      <td>16.875664</td>\n",
       "    </tr>\n",
       "    <tr>\n",
       "      <th>3</th>\n",
       "      <td>Baños</td>\n",
       "      <td>96.266766</td>\n",
       "    </tr>\n",
       "    <tr>\n",
       "      <th>4</th>\n",
       "      <td>Zona</td>\n",
       "      <td>7.242168</td>\n",
       "    </tr>\n",
       "  </tbody>\n",
       "</table>\n",
       "</div>"
      ],
      "text/plain": [
       "        columna         VIF\n",
       "0        Metros  156.572935\n",
       "1  Habitaciones  231.443140\n",
       "2        Balcon   16.875664\n",
       "3         Baños   96.266766\n",
       "4          Zona    7.242168"
      ]
     },
     "execution_count": 133,
     "metadata": {},
     "output_type": "execute_result"
    }
   ],
   "source": [
    "from statsmodels.stats.outliers_influence import variance_inflation_factor as VIF\n",
    "vif_data = pd.DataFrame()\n",
    "vif_data['columna'] = col_names\n",
    "vif_data['VIF'] = [VIF(df.drop(columns='Precio').values, i) for i in range(len(col_names))]\n",
    "vif_data"
   ]
  },
  {
   "cell_type": "markdown",
   "metadata": {},
   "source": [
    "Vemos que todos los VIFs superan el umbral de 5 comentado en las explicaciones previas. Si removemos la columna con mayor VIF y repetimos el cálculo:"
   ]
  },
  {
   "cell_type": "code",
   "execution_count": 134,
   "metadata": {},
   "outputs": [
    {
     "data": {
      "text/html": [
       "<div>\n",
       "<style scoped>\n",
       "    .dataframe tbody tr th:only-of-type {\n",
       "        vertical-align: middle;\n",
       "    }\n",
       "\n",
       "    .dataframe tbody tr th {\n",
       "        vertical-align: top;\n",
       "    }\n",
       "\n",
       "    .dataframe thead th {\n",
       "        text-align: right;\n",
       "    }\n",
       "</style>\n",
       "<table border=\"1\" class=\"dataframe\">\n",
       "  <thead>\n",
       "    <tr style=\"text-align: right;\">\n",
       "      <th></th>\n",
       "      <th>columna</th>\n",
       "      <th>VIF</th>\n",
       "    </tr>\n",
       "  </thead>\n",
       "  <tbody>\n",
       "    <tr>\n",
       "      <th>0</th>\n",
       "      <td>Metros</td>\n",
       "      <td>60.849074</td>\n",
       "    </tr>\n",
       "    <tr>\n",
       "      <th>1</th>\n",
       "      <td>Balcon</td>\n",
       "      <td>3.360900</td>\n",
       "    </tr>\n",
       "    <tr>\n",
       "      <th>2</th>\n",
       "      <td>Baños</td>\n",
       "      <td>32.900099</td>\n",
       "    </tr>\n",
       "    <tr>\n",
       "      <th>3</th>\n",
       "      <td>Zona</td>\n",
       "      <td>7.201042</td>\n",
       "    </tr>\n",
       "  </tbody>\n",
       "</table>\n",
       "</div>"
      ],
      "text/plain": [
       "  columna        VIF\n",
       "0  Metros  60.849074\n",
       "1  Balcon   3.360900\n",
       "2   Baños  32.900099\n",
       "3    Zona   7.201042"
      ]
     },
     "execution_count": 134,
     "metadata": {},
     "output_type": "execute_result"
    }
   ],
   "source": [
    "df = df.drop(columns = 'Habitaciones')\n",
    "vif_data = pd.DataFrame()\n",
    "vif_data['columna'] = df.drop(columns = 'Precio').columns\n",
    "vif_data['VIF'] = [VIF(df.drop(columns='Precio').values, i) for i in range(len(vif_data['columna']))]\n",
    "vif_data"
   ]
  },
  {
   "cell_type": "markdown",
   "metadata": {},
   "source": [
    "Aunque en general los VIFs han bajado, todavía hay algunos superiores a 5, así que removemos otra vez la columna con mayor VIF:"
   ]
  },
  {
   "cell_type": "code",
   "execution_count": 135,
   "metadata": {},
   "outputs": [
    {
     "data": {
      "text/html": [
       "<div>\n",
       "<style scoped>\n",
       "    .dataframe tbody tr th:only-of-type {\n",
       "        vertical-align: middle;\n",
       "    }\n",
       "\n",
       "    .dataframe tbody tr th {\n",
       "        vertical-align: top;\n",
       "    }\n",
       "\n",
       "    .dataframe thead th {\n",
       "        text-align: right;\n",
       "    }\n",
       "</style>\n",
       "<table border=\"1\" class=\"dataframe\">\n",
       "  <thead>\n",
       "    <tr style=\"text-align: right;\">\n",
       "      <th></th>\n",
       "      <th>columna</th>\n",
       "      <th>VIF</th>\n",
       "    </tr>\n",
       "  </thead>\n",
       "  <tbody>\n",
       "    <tr>\n",
       "      <th>0</th>\n",
       "      <td>Balcon</td>\n",
       "      <td>2.461538</td>\n",
       "    </tr>\n",
       "    <tr>\n",
       "      <th>1</th>\n",
       "      <td>Baños</td>\n",
       "      <td>3.384615</td>\n",
       "    </tr>\n",
       "    <tr>\n",
       "      <th>2</th>\n",
       "      <td>Zona</td>\n",
       "      <td>1.615385</td>\n",
       "    </tr>\n",
       "  </tbody>\n",
       "</table>\n",
       "</div>"
      ],
      "text/plain": [
       "  columna       VIF\n",
       "0  Balcon  2.461538\n",
       "1   Baños  3.384615\n",
       "2    Zona  1.615385"
      ]
     },
     "execution_count": 135,
     "metadata": {},
     "output_type": "execute_result"
    }
   ],
   "source": [
    "df = df.drop(columns = 'Metros')\n",
    "vif_data = pd.DataFrame()\n",
    "vif_data['columna'] = df.drop(columns = 'Precio').columns\n",
    "vif_data['VIF'] = [VIF(df.drop(columns='Precio').values, i) for i in range(len(vif_data['columna']))]\n",
    "vif_data"
   ]
  },
  {
   "cell_type": "markdown",
   "metadata": {},
   "source": [
    "Y ahora todos los VIFs son inferiores a 5, y por tanto hemos evitado la multicolinealidad en el dataset. Si fijamos un nuevo modelo lineal con este dataset reducido:"
   ]
  },
  {
   "cell_type": "code",
   "execution_count": 136,
   "metadata": {},
   "outputs": [
    {
     "name": "stdout",
     "output_type": "stream",
     "text": [
      "Score R^2: 0.9151431858859627\n"
     ]
    }
   ],
   "source": [
    "X, y = df.drop(columns='Precio').values, df.Precio.values\n",
    "fitted_mod = lm().fit(X, y)\n",
    "print('Score R^2:', fitted_mod.score(X, y))"
   ]
  },
  {
   "cell_type": "markdown",
   "metadata": {},
   "source": [
    "Aunque el modelo ha disminuido un poco su calidad, ahora no existe multicolinealidad por lo que el modelo es más robusto. Calculemos cómo queda la fórmula final:"
   ]
  },
  {
   "cell_type": "code",
   "execution_count": 137,
   "metadata": {},
   "outputs": [
    {
     "data": {
      "text/plain": [
       "'Precio = 41428.57 + 31785.71·Balcon + 107321.43·Baños + 78214.29·Zona'"
      ]
     },
     "execution_count": 137,
     "metadata": {},
     "output_type": "execute_result"
    }
   ],
   "source": [
    "col_names = df.drop(columns='Precio').columns\n",
    "intercept = np.round(fitted_mod.intercept_, 2)\n",
    "formula = f'Precio = {intercept}'\n",
    "for i in range(len(col_names)):\n",
    "    col = col_names[i]\n",
    "    coef = np.round(fitted_mod.coef_[i], 2)\n",
    "    formula += f' + {coef}·{col}'\n",
    "formula"
   ]
  }
 ],
 "metadata": {
  "kernelspec": {
   "display_name": "Python 3",
   "language": "python",
   "name": "python3"
  },
  "language_info": {
   "codemirror_mode": {
    "name": "ipython",
    "version": 3
   },
   "file_extension": ".py",
   "mimetype": "text/x-python",
   "name": "python",
   "nbconvert_exporter": "python",
   "pygments_lexer": "ipython3",
   "version": "3.6.4"
  }
 },
 "nbformat": 4,
 "nbformat_minor": 2
}
